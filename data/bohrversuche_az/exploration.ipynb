{
 "cells": [
  {
   "cell_type": "code",
   "execution_count": 1,
   "source": [
    "import pickle\n",
    "import matplotlib.pyplot as plt\n",
    "import pandas as pd\n",
    "import numpy as np\n",
    "from tsfresh import extract_features, extract_relevant_features\n",
    "from tsfresh.utilities.dataframe_functions import impute\n",
    "from tsfresh.feature_selection.relevance import calculate_relevance_table"
   ],
   "outputs": [],
   "metadata": {}
  },
  {
   "cell_type": "code",
   "execution_count": 2,
   "source": [
    "with open('./gesamt.pkl', 'rb') as f:\n",
    "    data = pickle.load(f)"
   ],
   "outputs": [],
   "metadata": {}
  },
  {
   "cell_type": "code",
   "execution_count": 3,
   "source": [
    "trials = [\"R1\", \"R2\", \"R3\", \"R4\", \"R5\", \"R6\"]\n",
    "X = data.drop([\"label\"], axis=1)\n",
    "X = X.reset_index()\n",
    "X['trial'] = X['IDs'].str[:2]\n",
    "# y = [data.loc[data[\"IDs\"] == id][\"label\"][0] for id in data[\"IDs\"].unique()]\n",
    "y = data.iloc[::203, :][\"label\"]\n",
    "y.index = data.iloc[::203, :][\"IDs\"]"
   ],
   "outputs": [],
   "metadata": {}
  },
  {
   "cell_type": "code",
   "execution_count": 4,
   "source": [
    "input_data = [X[X[\"trial\"] == trial].drop(\"trial\", axis=1) for trial in trials]\n",
    "target_labels = [y[y.index.str[:2] == trial] for trial in trials]"
   ],
   "outputs": [],
   "metadata": {}
  },
  {
   "cell_type": "code",
   "execution_count": 5,
   "source": [
    "this_input_data = pd.concat(input_data[i] for i in [0, 1, 2, 4, 5])\n",
    "this_target_labels = pd.concat(target_labels[i] for i in [0, 1, 2, 4, 5])"
   ],
   "outputs": [],
   "metadata": {}
  },
  {
   "cell_type": "code",
   "execution_count": 6,
   "source": [
    "this_input_data = pd.concat(input_data[i] for i in [0, 1, 2, 4, 5])\n",
    "this_target_labels = pd.concat(target_labels[i] for i in [0, 1, 2, 4, 5])\n",
    "\n",
    "features = extract_features(this_input_data, column_id=\"IDs\", column_sort=\"date\", column_kind=None, column_value=None, n_jobs=12)"
   ],
   "outputs": [
    {
     "output_type": "stream",
     "name": "stderr",
     "text": [
      "Feature Extraction:  40%|████      | 24/60 [07:06<02:12,  3.68s/it]"
     ]
    }
   ],
   "metadata": {}
  },
  {
   "cell_type": "code",
   "execution_count": null,
   "source": [
    "impute(features)\n",
    "relevance_table = calculate_relevance_table(features, this_target_labels, n_jobs=12)\n",
    "relevance_table = relevance_table[relevance_table.relevant]\n",
    "relevance_table.sort_values(\"p_value\", inplace=True)"
   ],
   "outputs": [
    {
     "output_type": "error",
     "ename": "Error",
     "evalue": "Kernel is dead",
     "traceback": [
      "Error: Kernel is dead",
      "at g._sendKernelShellControl (/home/nicolasj92/.vscode-server/extensions/ms-toolsai.jupyter-2021.8.1054968649/out/client/extension.js:52:852938)",
      "at g.sendShellMessage (/home/nicolasj92/.vscode-server/extensions/ms-toolsai.jupyter-2021.8.1054968649/out/client/extension.js:52:852707)",
      "at g.requestExecute (/home/nicolasj92/.vscode-server/extensions/ms-toolsai.jupyter-2021.8.1054968649/out/client/extension.js:52:855249)",
      "at d.requestExecute (/home/nicolasj92/.vscode-server/extensions/ms-toolsai.jupyter-2021.8.1054968649/out/client/extension.js:37:313885)",
      "at w.requestExecute (/home/nicolasj92/.vscode-server/extensions/ms-toolsai.jupyter-2021.8.1054968649/out/client/extension.js:24:134487)",
      "at w.executeCodeCell (/home/nicolasj92/.vscode-server/extensions/ms-toolsai.jupyter-2021.8.1054968649/out/client/extension.js:90:319834)",
      "at w.execute (/home/nicolasj92/.vscode-server/extensions/ms-toolsai.jupyter-2021.8.1054968649/out/client/extension.js:90:319389)",
      "at w.start (/home/nicolasj92/.vscode-server/extensions/ms-toolsai.jupyter-2021.8.1054968649/out/client/extension.js:90:315205)",
      "at runMicrotasks (<anonymous>)",
      "at processTicksAndRejections (internal/process/task_queues.js:93:5)",
      "at t.CellExecutionQueue.executeQueuedCells (/home/nicolasj92/.vscode-server/extensions/ms-toolsai.jupyter-2021.8.1054968649/out/client/extension.js:90:329732)",
      "at t.CellExecutionQueue.start (/home/nicolasj92/.vscode-server/extensions/ms-toolsai.jupyter-2021.8.1054968649/out/client/extension.js:90:329272)"
     ]
    }
   ],
   "metadata": {}
  },
  {
   "cell_type": "code",
   "execution_count": null,
   "source": [
    "relevance_table"
   ],
   "outputs": [
    {
     "output_type": "execute_result",
     "data": {
      "text/plain": [
       "Empty DataFrame\n",
       "Columns: [feature, type, p_value, relevant]\n",
       "Index: []"
      ],
      "text/html": [
       "<div>\n",
       "<style scoped>\n",
       "    .dataframe tbody tr th:only-of-type {\n",
       "        vertical-align: middle;\n",
       "    }\n",
       "\n",
       "    .dataframe tbody tr th {\n",
       "        vertical-align: top;\n",
       "    }\n",
       "\n",
       "    .dataframe thead th {\n",
       "        text-align: right;\n",
       "    }\n",
       "</style>\n",
       "<table border=\"1\" class=\"dataframe\">\n",
       "  <thead>\n",
       "    <tr style=\"text-align: right;\">\n",
       "      <th></th>\n",
       "      <th>feature</th>\n",
       "      <th>type</th>\n",
       "      <th>p_value</th>\n",
       "      <th>relevant</th>\n",
       "    </tr>\n",
       "    <tr>\n",
       "      <th>feature</th>\n",
       "      <th></th>\n",
       "      <th></th>\n",
       "      <th></th>\n",
       "      <th></th>\n",
       "    </tr>\n",
       "  </thead>\n",
       "  <tbody>\n",
       "  </tbody>\n",
       "</table>\n",
       "</div>"
      ]
     },
     "metadata": {},
     "execution_count": 6
    }
   ],
   "metadata": {}
  },
  {
   "cell_type": "code",
   "execution_count": null,
   "source": [],
   "outputs": [],
   "metadata": {}
  },
  {
   "cell_type": "code",
   "execution_count": null,
   "source": [],
   "outputs": [],
   "metadata": {}
  },
  {
   "cell_type": "code",
   "execution_count": null,
   "source": [],
   "outputs": [],
   "metadata": {}
  },
  {
   "cell_type": "code",
   "execution_count": null,
   "source": [],
   "outputs": [],
   "metadata": {}
  },
  {
   "cell_type": "code",
   "execution_count": 12,
   "source": [
    "trial = trials[0]\n",
    "input_data = X.loc[X[\"IDs\"].str.contains(trial)]\n",
    "relevant_features = tsfresh.extract_relevant_features(input_data, y.loc[y.index.str.contains(trial)], column_id=\"IDs\", column_sort=\"date\", column_kind=None, column_value=None, n_jobs=12)"
   ],
   "outputs": [
    {
     "output_type": "stream",
     "name": "stderr",
     "text": [
      "Feature Extraction: 100%|██████████| 60/60 [04:23<00:00,  4.39s/it]\n"
     ]
    }
   ],
   "metadata": {}
  },
  {
   "cell_type": "code",
   "execution_count": null,
   "source": [],
   "outputs": [],
   "metadata": {}
  },
  {
   "cell_type": "code",
   "execution_count": null,
   "source": [],
   "outputs": [],
   "metadata": {}
  },
  {
   "cell_type": "code",
   "execution_count": null,
   "source": [],
   "outputs": [],
   "metadata": {}
  },
  {
   "cell_type": "code",
   "execution_count": null,
   "source": [],
   "outputs": [],
   "metadata": {}
  },
  {
   "cell_type": "code",
   "execution_count": null,
   "source": [],
   "outputs": [],
   "metadata": {}
  },
  {
   "cell_type": "code",
   "execution_count": 39,
   "source": [
    "for i, sample in enumerate(data[\"IDs\"].unique()):\n",
    "    series = data.loc[data[\"IDs\"] == sample][\"Strom_Z\"]\n",
    "    plt.plot(np.arange(0, series.shape[0]), series)\n",
    "\n",
    "    if i > 100:\n",
    "        break\n",
    "\n",
    "plt.show()"
   ],
   "outputs": [
    {
     "output_type": "display_data",
     "data": {
      "text/plain": [
       "<Figure size 432x288 with 1 Axes>"
      ],
      "image/png": "[encoded data removed]"
     },
     "metadata": {
      "needs_background": "light"
     }
    }
   ],
   "metadata": {}
  },
  {
   "cell_type": "code",
   "execution_count": null,
   "source": [],
   "outputs": [],
   "metadata": {}
  }
 ],
 "metadata": {
  "orig_nbformat": 4,
  "language_info": {
   "name": "python",
   "version": "3.8.8",
   "mimetype": "text/x-python",
   "codemirror_mode": {
    "name": "ipython",
    "version": 3
   },
   "pygments_lexer": "ipython3",
   "nbconvert_exporter": "python",
   "file_extension": ".py"
  },
  "kernelspec": {
   "name": "python3",
   "display_name": "Python 3.8.8 64-bit ('base': conda)"
  },
  "interpreter": {
   "hash": "a694faebcb9cb3d65b3c63c3e670bc0509a5e553ffff255c8bfb566f1bd320c5"
  }
 },
 "nbformat": 4,
 "nbformat_minor": 2
}